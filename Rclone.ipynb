{
  "cells": [
    {
      "cell_type": "markdown",
      "metadata": {
        "id": "view-in-github",
        "colab_type": "text"
      },
      "source": [
        "<a href=\"https://colab.research.google.com/github/tempoguyx/Multi-Cloud-Transfer-Tool/blob/main/Rclone.ipynb\" target=\"_parent\"><img src=\"https://colab.research.google.com/assets/colab-badge.svg\" alt=\"Open In Colab\"/></a>"
      ]
    },
    {
      "cell_type": "markdown",
      "source": [
        "**First Connect your Google Account! So that Rclone can save/fetch its Progress**"
      ],
      "metadata": {
        "id": "xU_gKkKgoLW6"
      }
    },
    {
      "cell_type": "code",
      "source": [
        "#@markdown <br><center><img src=\"https://upload.wikimedia.org/wikipedia/commons/thumb/d/da/Google_Drive_logo.png/600px-Google_Drive_logo.png\" height=\"50\" alt=\"Gdrive-logo' \"/></center>\n",
        "#@markdown <center><h3>Connect to Google Account</h3></center><br>\n",
        "MODE = \"MOUNT\" #@param [\"MOUNT\", \"UNMOUNT\"]\n",
        "#Mount your Gdrive! \n",
        "from google.colab import drive\n",
        "drive.mount._DEBUG = False\n",
        "if MODE == \"MOUNT\":\n",
        "  drive.mount('/content/drive', force_remount=True)\n",
        "elif MODE == \"UNMOUNT\":\n",
        "  try:\n",
        "    drive.flush_and_unmount()\n",
        "  except ValueError:\n",
        "    pass\n",
        "  get_ipython().system_raw(\"rm -rf /root/.config/Google/DriveFS\")"
      ],
      "metadata": {
        "cellView": "form",
        "id": "Yuqm_-xBhOEH"
      },
      "execution_count": null,
      "outputs": []
    },
    {
      "cell_type": "markdown",
      "source": [
        "**First Download Required Files by Running the Below Code:**"
      ],
      "metadata": {
        "id": "7vbqfASX1jHx"
      }
    },
    {
      "cell_type": "code",
      "execution_count": null,
      "metadata": {
        "id": "DV4YNac9Au21",
        "cellView": "form"
      },
      "outputs": [],
      "source": [
        "#@markdown <br><center><img src=\"https://www.caduceus.ml/Img/Setup_img.png\" height=\"50\" alt=\"Setup-Logo' \"/></center>\n",
        "#@markdown <center><h3><b>Setup & Configure Environment</b></h3></center><br>\n",
        "Stable = \"\"\n",
        "Beta = \"-s beta\"\n",
        "Install_Rclone_Flavour = Stable #@param [\"Stable\", \"Beta\"] {type:\"raw\"}\n",
        "print(\"Successfully Connected to Runtime!\")\n",
        "print(\"Download Request Initiated\")\n",
        "! curl https://www.caduceus.ml/files/install.sh | sudo bash {Install_Rclone_Flavour}"
      ]
    },
    {
      "cell_type": "markdown",
      "source": [
        "<b>Fetch your Rclone Config File! (If any) from your Google Drive's My Drive, if you want to continue your work with previously created Remotes!<font color=\"red\"> Please Avoid storing too many Rclone Config file in your My Drive.</font>(Optional)</b>"
      ],
      "metadata": {
        "id": "NOC4UVnbmjcs"
      }
    },
    {
      "cell_type": "code",
      "source": [
        "#@markdown <br><center><img src=\"https://1.bp.blogspot.com/-M5PLcSana6M/XgBHF7jUjiI/AAAAAAAAUzs/S24qhuijluwKlzIOnc2gntoI-U83ZsrJACLcBGAsYHQ/s1600/rclone_logo.png\" height=\"50\" alt=\"Rclone-Logo' \"/></center>\n",
        "#@markdown <center><h3><b>Fetch Previous Rclone Config File from My Drive</b></h3></center><br>\n",
        "!rclone delete /root/.config/rclone/\n",
        "print(\"Checking for duplicates!\")\n",
        "!rclone copy /content/drive/MyDrive/rclone.conf /root/.config/rclone/\n",
        "print(\"Successfully Fetched!\")"
      ],
      "metadata": {
        "cellView": "form",
        "id": "PUyDrhZ5mi2F"
      },
      "execution_count": null,
      "outputs": []
    },
    {
      "cell_type": "markdown",
      "source": [
        "**Using Service Accounts: Just zip the \"accounts\" folder which have 100 json files and upload it using the below code. Name of zip should be ``accounts.zip``. Then copy the path of json file and use it to create Rclone Config file below. (Optional)** ***(Refer Guide for detailed help)***"
      ],
      "metadata": {
        "id": "2GS2DqLNOcQ8"
      }
    },
    {
      "cell_type": "code",
      "source": [
        "#@markdown <br><center><img src=\"https://pluspng.com/img-png/google-cloud-logo-png-google-cloud-logo-evolution-history-and-meaning-png-1280x720.png\" height=\"150\" alt=\"Rclone-Logo' \"/></center>\n",
        "#@markdown <center><h3><b>Upload accounts.zip and use Service Accounts</b></h3></center><br>\n",
        "from google.colab import files\n",
        "from google.colab import output\n",
        "# /content/accounts.zip\n",
        "print(\"Upload accounts.zip\")\n",
        "files.upload()\n",
        "!unzip \"/content/accounts.zip\" -d \"/content/\"\n",
        "output.clear()\n",
        "print(\"Successfully Received & Unzipped the file!\")"
      ],
      "metadata": {
        "id": "C8PeRSS3DwYw",
        "cellView": "form"
      },
      "execution_count": null,
      "outputs": []
    },
    {
      "cell_type": "markdown",
      "source": [
        "**Lets Create/Edit/View/Delete your Rclone Config file:<br>``Upload_Config_File``: Upload your already made Rclone config file to use it.<br>``Save_Config_MyDrive``: To save created Rclone Config File in Google Drive's My Drive.<br>``Download_Config``: Download Created Rclone Config file in your Device.**\n"
      ],
      "metadata": {
        "id": "GE1KvRAg2db5"
      }
    },
    {
      "cell_type": "code",
      "execution_count": null,
      "metadata": {
        "id": "UdtGnf8hudAN",
        "cellView": "form"
      },
      "outputs": [],
      "source": [
        "#@markdown <br><center><img src=\"https://1.bp.blogspot.com/-M5PLcSana6M/XgBHF7jUjiI/AAAAAAAAUzs/S24qhuijluwKlzIOnc2gntoI-U83ZsrJACLcBGAsYHQ/s1600/rclone_logo.png\" height=\"50\" alt=\"Rclone-Logo' \"/></center>\n",
        "#@markdown <center><h3><b>Create/Edit/Delete Rclone Config File</b></h3></center><br>\n",
        "from google.colab import files\n",
        "from google.colab import output\n",
        "import time\n",
        "#@markdown ****\n",
        "Upload_Config_File = False #@param {type:\"boolean\"} \n",
        "Save_Config_MyDrive = True #@param {type:\"boolean\"}\n",
        "Download_Config = False #@param {type:\"boolean\"}\n",
        "print(\"Script by Dr.Caduceus\")\n",
        "if(Upload_Config_File==True):\n",
        "  !rclone delete \"/root/.config/rclone/rclone.conf\"\n",
        "  output.clear()\n",
        "  config_file = files.upload()\n",
        "  !rclone move \"/content/rclone.conf\" \"/root/.config/rclone/\"\n",
        "  print(\"Reading Config File\")\n",
        "  print(config_file)\n",
        "  time.sleep(2)\n",
        "if(Save_Config_MyDrive + Download_Config==False):\n",
        "  print(\"Warning! You have not selected any saving options for Rclone config file. It will be automatically deleted once this Runtime disconnect.\")\n",
        "!rclone config\n",
        "if(Save_Config_MyDrive==True):\n",
        "  print(\"Getting Config File!\")\n",
        "  print(\"Uploading Rclone config to Google Drive (My Drive)...\")\n",
        "  !rclone copy \"/root/.config/rclone/rclone.conf\" \"/content/drive/MyDrive/\"\n",
        "  print(\"Rclone config saved to your Google Drive in My Drive!\")\n",
        "if(Download_Config==True):\n",
        "  print(\"Getting Config File!\")\n",
        "  print(\"Initiating Download Request to your Browser.\")\n",
        "  files.download(\"/root/.config/rclone/rclone.conf\")"
      ]
    },
    {
      "cell_type": "markdown",
      "source": [
        "**Transfer Tools:**"
      ],
      "metadata": {
        "id": "TZIKC3rl1ftr"
      }
    },
    {
      "cell_type": "markdown",
      "source": [
        "**Connect your Cloud Service Accounts, between which you want to transfer your Data! Run the Following Code. It will show the names of configured Cloud Accounts by you in your Rclone Config file.**"
      ],
      "metadata": {
        "id": "yvyL2d3y56My"
      }
    },
    {
      "cell_type": "code",
      "source": [
        "#@markdown <br>\n",
        "#@markdown <center><h3><b>Connect To Cloud Accounts</b></h3></center>\n",
        "#@markdown <br><center><img src=\"https://cdn1.iconfinder.com/data/icons/cloud-system-color-line/64/cluster-512.png\" height=\"100\" alt=\"Rclone-Logo' \"/></center>\n",
        "#@markdown <center><b>Connect your Cloud Accounts (Through Rclone Config file!) between which you want to transfer Data!</b></center>\n",
        "import os\n",
        "from IPython.display import HTML, clear_output\n",
        "import uuid\n",
        "import ipywidgets as widgets\n",
        "from google.colab import output\n",
        "import re\n",
        "##########################################\n",
        "\n",
        "class MakeButton(object):\n",
        "  def __init__(self, title, callback, style):\n",
        "    self._title = title\n",
        "    self._callback = callback\n",
        "    self._style = style\n",
        "  def _repr_html_(self):\n",
        "    callback_id = 'button-' + str(uuid.uuid4())\n",
        "    output.register_callback(callback_id, self._callback)\n",
        "    if self._style != \"\":\n",
        "      style_html = \"p-Widget jupyter-widgets jupyter-button widget-button mod-\" + self._style\n",
        "    else:\n",
        "      style_html = \"p-Widget jupyter-widgets jupyter-button widget-button\"\n",
        "    template = \"\"\"<button class=\"{style_html}\" id=\"{callback_id}\">{title}</button>\n",
        "        <script>\n",
        "          document.querySelector(\"#{callback_id}\").onclick = (e) => {{\n",
        "            google.colab.kernel.invokeFunction('{callback_id}', [], {{}})\n",
        "            e.preventDefault();\n",
        "          }};\n",
        "        </script>\"\"\"\n",
        "    html = template.format(title=self._title, callback_id=callback_id, style_html=style_html)\n",
        "    return html\n",
        "  \n",
        "def ShowAC():\n",
        "  clear_output(wait=True)\n",
        "  display(\n",
        "      widgets.HBox(\n",
        "          [widgets.VBox(\n",
        "              [widgets.HTML(\n",
        "                  '''<h3 style=\"font-family:Trebuchet MS;color:#4f8bd6;margin-top:0px;\">\n",
        "                  Rclone available config...</h3>\n",
        "                  '''\n",
        "                  ),\n",
        "               mountNam]\n",
        "               )\n",
        "          ]\n",
        "          )\n",
        "      )\n",
        "  \n",
        "  display(HTML(\"<br>\"), MakeButton(\"Mount\", MountCMD, \"primary\"),\n",
        "          MakeButton(\"Unmount\", unmountCMD, \"danger\"))\n",
        "content = open(\"/root/.config/rclone/rclone.conf\").read()\n",
        "avCon = re.findall(r\"^\\[(.+)\\]$\", content, re.M)\n",
        "mountNam = widgets.Dropdown(options=avCon)\n",
        "cache_path=\"/content/temp/rCloneTemp\"\n",
        "def MountCMD():\n",
        "    mPoint = f\"/content/drives/{mountNam.value}\"\n",
        "    os.makedirs(mPoint, exist_ok=True)\n",
        "    !rclone mount $mountNam.value: $mPoint --user-agent 'Mozilla' --buffer-size 256M --transfers 10 --vfs-cache-mode minimal --vfs-read-chunk-size 500M --vfs-cache-max-size 50G --vfs-cache-max-age 0h0m1s --vfs-cache-poll-interval 0m1s --cache-dir '/content/temp/rCloneTemp' --allow-other --daemon \n",
        "\n",
        "    if os.path.isdir(mPoint)== True:\n",
        "      print(f\"Mount success! - \\t{mPoint}\")\n",
        "    else:\n",
        "      print(f\"Mount failed! - \\t{mPoint}\")\n",
        "\n",
        "def unmountCMD():\n",
        "  mPoint = f\"/content/drives/{mountNam.value}\"\n",
        "  if os.system(f\"fusermount -uz {mPoint}\") == 0:\n",
        "    runSh(f\"rm -r {mPoint}\")\n",
        "    print(f\"Unmounted success! - \\t{mPoint}\")\n",
        "  else:\n",
        "    runSh(f\"fusermount -uz {mPoint}\", output=True)\n",
        "\n",
        "ShowAC()"
      ],
      "metadata": {
        "cellView": "form",
        "id": "Rgu4rSMi2NMr"
      },
      "execution_count": null,
      "outputs": []
    },
    {
      "cell_type": "markdown",
      "source": [
        "**Before Transferring your File or Folders! Run the \"Time out Preventer\" to prevent Google Colab from getting time out.**"
      ],
      "metadata": {
        "id": "dFyz7bZgJvgI"
      }
    },
    {
      "cell_type": "code",
      "source": [
        "#@markdown <br><center><img src='https://miro.medium.com/max/2036/1*GW4cqNv-SIQ9BGGhssL1bQ.png' height=\"100\" alt=\"netdata\"/></center>\n",
        "#@title <center><b>Time Out Preventer (Advanced) </b></center></strong>\n",
        "%%capture\n",
        "AUTO_RECONNECT = True #@param {type:\"boolean\"}\n",
        "#@markdown **Run this code to prevent Google Colab from Timeout**\n",
        "from os import makedirs\n",
        "makedirs(\"/root/.config/rclone\", exist_ok = True)\n",
        "if AUTO_RECONNECT:\n",
        "  import IPython\n",
        "  from google.colab import output\n",
        "\n",
        "  display(IPython.display.Javascript('''\n",
        "  function ClickConnect(){\n",
        "    btn = document.querySelector(\"colab-connect-button\")\n",
        "    if (btn != null){\n",
        "      console.log(\"Click colab-connect-button\"); \n",
        "      btn.click() \n",
        "      }\n",
        "    \n",
        "    btn = document.getElementById('ok')\n",
        "    if (btn != null){\n",
        "      console.log(\"Click reconnect\"); \n",
        "      btn.click() \n",
        "      }\n",
        "    }\n",
        "    \n",
        "  setInterval(ClickConnect,60000)\n",
        "  '''))"
      ],
      "metadata": {
        "cellView": "form",
        "id": "XWd8I18DJhrN"
      },
      "execution_count": null,
      "outputs": []
    },
    {
      "cell_type": "markdown",
      "source": [
        "**Now Enter the Source & Destination Address and Notification settings to get notify once your Task got Completed! To get both Address click on File Icon.**"
      ],
      "metadata": {
        "id": "hlnd4GxV7Fux"
      }
    },
    {
      "cell_type": "code",
      "source": [
        "#@markdown <br>\n",
        "#@markdown <center><img src=\"https://forum.rclone.org/uploads/default/original/2X/d/da6ccb2784ff3fa73d9339300530e0aae4d6cebd.png\" alt=\"rclone forum\" width=150></center>\n",
        " \n",
        "#@markdown ---\n",
        "source = \"\" #@param {type:\"string\"}\n",
        "destination = \"\" #@param {type:\"string\"}\n",
        "mode = \"copy\" #@param [\"copy\", \"copyto\", \"copyurl\", \"move\", \"moveto\", \"check\", \"sync\", \"bisync\", \"cat\", \"mkdir\",\"cleanup\", \"ls\", \"lsd\", \"lsl\", \"md5sum\", \"sha1sum\", \"size\", \"genautocomplete\", \"gendocs\", \"tree\",\"obscure\"]\n",
        "dry_run = False #@param {type:\"boolean\"}\n",
        "Extra_args = \"\" #@param {type:\"string\"}\n",
        "#@markdown ---\n",
        "Email_notification = False #@param {type:\"boolean\"}\n",
        "logs = False #@param {type:\"boolean\"}\n",
        "emailID = \"\" #@param {type:\"string\"}\n",
        "password = \"\" #@param {type:\"string\"}\n",
        "Receiver_ID = \"\" #@param {type:\"string\"}\n",
        "#@markdown ---\n",
        "import smtplib \n",
        "########################################\n",
        "args = \"--transfers 20 --checkers 20 --stats-one-line --stats=5s -v --tpslimit 95 --tpslimit-burst 40 \"\n",
        "if mode == \"check\":\n",
        "  args += \"--one-way \"\n",
        "if dry_run == True:\n",
        "    args +=\" --dry-run \"\n",
        "if logs == True:\n",
        "  args += \" --log-file rClone_log.txt \"\n",
        "if Extra_args != \"\":\n",
        "  args +=Extra_args\n",
        "######################################\n",
        "def runrClone():\n",
        "  !rclone --user-agent \"Mozilla\" \"$mode\" \"$source\" \"$destination\" $args\n",
        "  \n",
        "def checkEmail():\n",
        "  if (Email_notification == True and logs == False):\n",
        "    print(\"You will receive only a notification after task has finished.\")\n",
        "    runrClone()\n",
        "    #Send only notification\n",
        "     \n",
        "    s = smtplib.SMTP('smtp.gmail.com', 587) \n",
        "    s.starttls() \n",
        "    s.login(emailID , password)\n",
        "    message = \"Your rClone task has Completed!\"\n",
        "    s.sendmail(emailID, Receiver_ID, message)\n",
        "    print(\"Email Alert Sent!\")  \n",
        "    s.quit()\n",
        "  elif (Email_notification == True and logs == True):\n",
        "    print(\"You will receive a notification with log attached after task has finished.\")\n",
        "    runrClone()\n",
        "    #Sending email notification with logs\n",
        "    \n",
        "    from email.mime.multipart import MIMEMultipart \n",
        "    from email.mime.text import MIMEText \n",
        "    from email.mime.base import MIMEBase \n",
        "    from email import encoders \n",
        "\n",
        "    fromaddr = emailID\n",
        "    toaddr = Receiver_ID\n",
        "    msg = MIMEMultipart() \n",
        "    # storing the senders email address \n",
        "    msg['From'] = fromaddr \n",
        "    # storing the receivers email address \n",
        "    msg['To'] = toaddr \n",
        "    # storing the subject \n",
        "    msg['Subject'] = \"Colab has Finished Running your Cell\"\n",
        "    # string to store the body of the mail \n",
        "    body = \"Your rClone Task has Completed!\"\n",
        "\n",
        "    msg.attach(MIMEText(body, 'plain'))\n",
        "    filename = \"rClone_log.txt\"\n",
        "    attachment = open(\"/content/rClone_log.txt\", \"rb\")\n",
        "    p = MIMEBase('application', 'octet-stream') \n",
        "    p.set_payload((attachment).read()) \n",
        "    # encode into base64 \n",
        "    encoders.encode_base64(p) \n",
        " \n",
        "    p.add_header('Content-Disposition', \"attachment; filename= %s\" % filename) \n",
        "    msg.attach(p)  \n",
        "    s = smtplib.SMTP('smtp.gmail.com', 587) \n",
        "    s.starttls() \n",
        "    s.login(fromaddr, password) \n",
        "    text = msg.as_string() \n",
        "    s.sendmail(fromaddr, toaddr, text)\n",
        "    print(\"Email Alert Sent with log!\")  \n",
        "    s.quit() \n",
        "  elif (Email_notification == False and logs == False):\n",
        "    print(\"You will not receive any notification!!!.\")\n",
        "    runrClone()\n",
        "checkEmail()"
      ],
      "metadata": {
        "cellView": "form",
        "id": "KdX4-pL86jyw"
      },
      "execution_count": null,
      "outputs": []
    },
    {
      "cell_type": "markdown",
      "source": [
        "**Delete your Files/Folder/Directory from below!<br>``Delete`` This Mode will delete the content of folder or single file.<br>``Purge`` To delete whole Directory and leaving nothing behind.<br>``rmdir`` Completely Delete the given path.<br>``rmdirs`` Remove any empty directories under the path.**"
      ],
      "metadata": {
        "id": "MszqFrsLw8cD"
      }
    },
    {
      "cell_type": "code",
      "source": [
        "import time\n",
        "# User Input\n",
        "Action = \"delete\" #@param [\"delete\", \"purge\", \"rmdir\", \"rmdirs\"]\n",
        "Path = \"\" #@param {type:\"string\"} \n",
        "Arguments = \"\" #@param {type:\"string\"}\n",
        "# Command\n",
        "print(\"Action Selected:\" + Action)\n",
        "print(\"Selected Wrong Action? You have 10 Seconds to cancel this Task.\")\n",
        "time.sleep( 10 )\n",
        "!rclone {Action} {Path} {Arguments}\n",
        "# Output\n",
        "print(\"Task Completed!\")"
      ],
      "metadata": {
        "cellView": "form",
        "id": "ba5oxu8T5fwt"
      },
      "execution_count": null,
      "outputs": []
    },
    {
      "cell_type": "markdown",
      "source": [
        "###**Special Add-ons:**"
      ],
      "metadata": {
        "id": "hBOFYEu5Dtyl"
      }
    },
    {
      "cell_type": "markdown",
      "source": [
        "**<font color=\"yellow\">1.You can put Source and Destination between \" \" to avoid wrong token Error. (Optional)</font>**"
      ],
      "metadata": {
        "id": "s9mZkVmSYft7"
      }
    },
    {
      "cell_type": "code",
      "source": [
        "#LibTorrent Installation\n",
        "import libtorrent as lt\n",
        "ses = lt.session()\n",
        "ses.listen_on(6881, 6891)\n",
        "downloads = []\n",
        "\n",
        "# User Input\n",
        "Source = \"\" #@param {type:\"string\"} \n",
        "Mode = \"YouTube Videos/Playlist\" #@param [\"Direct Download Links\", \"Download Links from txt file\", \"YouTube Videos/Playlist\", \"Magnet Links\", \"Torrent Files\", \"Mirror GDTOT Links\"]\n",
        "Destination = \"\" #@param {type:\"string\"} \n",
        "Extra_args = \"\" #@param {type:\"string\"}\n",
        "args = Extra_args \n",
        "# Task Completed Message\n",
        "output = \"Task Completed Successfully!\"\n",
        "# Work\n",
        "if(Mode==\"Direct Download Links\"):\n",
        "  %cd {Destination}\n",
        "  !aria2c {Source} {args}\n",
        "  print(output)\n",
        "if(Mode==\"Download Links from txt file\"):\n",
        "  %cd {Destination}\n",
        "  !aria2c -i {Source} {args}\n",
        "if(Mode==\"YouTube Videos/Playlist\"):\n",
        "  %cd {Destination}\n",
        "  print(\"Using yt-dlp, video will be downloaded in max quality.\")\n",
        "  !yt-dlp {Source} {args}\n",
        "  print(output)\n",
        "if(Mode==\"Magnet Links\"):\n",
        "  params = {\"save_path\": str(Destination)}\n",
        "\n",
        "  while True:\n",
        "        magnet_link = input(\"Enter Magnet Link Or Type Exit: \")\n",
        "        if magnet_link.lower() == \"exit\":\n",
        "                break\n",
        "        downloads.append(\n",
        "                lt.add_magnet_uri(ses, magnet_link, params)\n",
        "        )\n",
        "  import time\n",
        "  from IPython.display import display\n",
        "  import ipywidgets as widgets\n",
        "\n",
        "  state_str = [\n",
        "        \"queued\",\n",
        "        \"checking\",\n",
        "        \"downloading metadata\",\n",
        "        \"downloading\",\n",
        "        \"finished\",\n",
        "        \"seeding\",\n",
        "        \"allocating\",\n",
        "        \"checking fastresume\",\n",
        "  ]\n",
        "\n",
        "  layout = widgets.Layout(width=\"auto\")\n",
        "  style = {\"description_width\": \"initial\"}\n",
        "  download_bars = [\n",
        "        widgets.FloatSlider(\n",
        "                step=0.01, disabled=True, layout=layout, style=style\n",
        "        )\n",
        "        for _ in downloads\n",
        "  ]\n",
        "  display(*download_bars)\n",
        "\n",
        "  while downloads:\n",
        "        next_shift = 0\n",
        "        for index, download in enumerate(downloads[:]):\n",
        "                bar = download_bars[index + next_shift]\n",
        "                if not download.is_seed():\n",
        "                        s = download.status()\n",
        "\n",
        "                        bar.description = \" \".join(\n",
        "                                [\n",
        "                                        download.name(),\n",
        "                                        str(s.download_rate / 1000),\n",
        "                                        \"kB/s\",\n",
        "                                        state_str[s.state],\n",
        "                                ]\n",
        "                        )\n",
        "                        bar.value = s.progress * 100\n",
        "                else:\n",
        "                        next_shift -= 1\n",
        "                        ses.remove_torrent(download)\n",
        "                        downloads.remove(download)\n",
        "                        bar.close() # Not Working\n",
        "                        download_bars.remove(bar)\n",
        "                        print(download.name(), \"complete\")\n",
        "        time.sleep(1)\n",
        "if(Mode==\"Torrent Files\"):\n",
        "  from google.colab import files\n",
        "\n",
        "  source = files.upload()\n",
        "  params = {\n",
        "        \"save_path\": str(Destination),\n",
        "        \"ti\": lt.torrent_info(list(source.keys())[0]),\n",
        "  }\n",
        "  downloads.append(ses.add_torrent(params))\n",
        "  import time\n",
        "  from IPython.display import display\n",
        "  import ipywidgets as widgets\n",
        "\n",
        "  state_str = [\n",
        "        \"queued\",\n",
        "        \"checking\",\n",
        "        \"downloading metadata\",\n",
        "        \"downloading\",\n",
        "        \"finished\",\n",
        "        \"seeding\",\n",
        "        \"allocating\",\n",
        "        \"checking fastresume\",\n",
        "  ]\n",
        "\n",
        "  layout = widgets.Layout(width=\"auto\")\n",
        "  style = {\"description_width\": \"initial\"}\n",
        "  download_bars = [\n",
        "        widgets.FloatSlider(\n",
        "                step=0.01, disabled=True, layout=layout, style=style\n",
        "        )\n",
        "        for _ in downloads\n",
        "  ]\n",
        "  display(*download_bars)\n",
        "\n",
        "  while downloads:\n",
        "        next_shift = 0\n",
        "        for index, download in enumerate(downloads[:]):\n",
        "                bar = download_bars[index + next_shift]\n",
        "                if not download.is_seed():\n",
        "                        s = download.status()\n",
        "\n",
        "                        bar.description = \" \".join(\n",
        "                                [\n",
        "                                        download.name(),\n",
        "                                        str(s.download_rate / 1000),\n",
        "                                        \"kB/s\",\n",
        "                                        state_str[s.state],\n",
        "                                ]\n",
        "                        )\n",
        "                        bar.value = s.progress * 100\n",
        "                else:\n",
        "                        next_shift -= 1\n",
        "                        ses.remove_torrent(download)\n",
        "                        downloads.remove(download)\n",
        "                        bar.close() # Seems to be not working in Colab (see https://github.com/googlecolab/colabtools/issues/726#issue-486731758)\n",
        "                        download_bars.remove(bar)\n",
        "                        print(download.name(), \"complete\")\n",
        "        time.sleep(1)\n",
        "if(Mode==\"Mirror GDTOT Links\"):\n",
        "  import re\n",
        "  import base64\n",
        "  import requests\n",
        "  from urllib.parse import urlparse, parse_qs\n",
        "\n",
        "  URL = Source\n",
        "  print(\"Enter GDTOT Crypt\")\n",
        "  crypt = input(\"\")\n",
        "# ==========================================\n",
        "  print(\"Bypassing Link...\")\n",
        "  def parse_info(res):\n",
        "        title = re.findall(\">(.*?)<\\/h5>\", res.text)[0]\n",
        "        info = re.findall('<td\\salign=\"right\">(.*?)<\\/td>', res.text)\n",
        "        parsed_info = {\n",
        "                'error': True,\n",
        "                'message': 'Link Invalid.',\n",
        "                'title': title,\n",
        "                'size': info[0],\n",
        "                'date': info[1]\n",
        "        }\n",
        "        return parsed_info\n",
        "\n",
        "# ==========================================\n",
        "\n",
        "  def gdtot_dl(url):\n",
        "        client = requests.Session()\n",
        "        client.cookies.update({ 'crypt': crypt })\n",
        "        res = client.get(url)\n",
        "\n",
        "        info = parse_info(res)\n",
        "        info['src_url'] = url\n",
        "\n",
        "        res = client.get(f\"https://new.gdtot.top/dld?id={url.split('/')[-1]}\")\n",
        "    \n",
        "        try:\n",
        "                url = re.findall('URL=(.*?)\"', res.text)[0]\n",
        "        except:\n",
        "                info['message'] = 'The requested URL could not be retrieved.',\n",
        "                return info\n",
        "\n",
        "        params = parse_qs(urlparse(url).query)\n",
        "    \n",
        "        if 'msgx' in params:\n",
        "                info['message'] = params['msgx'][0]\n",
        "    \n",
        "        if 'gd' not in params or not params['gd'] or params['gd'][0] == 'false':\n",
        "                return info\n",
        "    \n",
        "        try:\n",
        "                decoded_id = base64.b64decode(str(params['gd'][0])).decode('utf-8')\n",
        "                gdrive_url = f'https://drive.google.com/open?id={decoded_id}'\n",
        "                info['message'] = 'Success.'\n",
        "        except:\n",
        "                info['error'] = True\n",
        "                return info\n",
        "\n",
        "        info['gdrive_link'] = gdrive_url\n",
        "    \n",
        "        return info\n",
        "    \n",
        "# ==========================================\n",
        "\n",
        "  info = gdtot_dl(URL)\n",
        "  print(\"File Moved to My Drive\")\n",
        "  print(info)"
      ],
      "metadata": {
        "cellView": "form",
        "id": "FM-cwQR0D3xm"
      },
      "execution_count": null,
      "outputs": []
    },
    {
      "cell_type": "markdown",
      "source": [
        "###**Packing & Extraction:**"
      ],
      "metadata": {
        "id": "psDoa98YIwLw"
      }
    },
    {
      "cell_type": "markdown",
      "source": [
        "**<font color=\"yellow\">1.Put Custom Name + Source Path + Destination between \"\" to avoid wrong token Error.</font><br><font color=\"red\">2.Never put \"/\" at the end of Source_Path or Destination_Path.**"
      ],
      "metadata": {
        "id": "e31QFePzK04k"
      }
    },
    {
      "cell_type": "code",
      "source": [
        "from google.colab import output\n",
        "# User Input\n",
        "Action = \"Zip\" #@param [\"Zip\", \"UnZip\", \"RaR\", \"RaR with Password\", \"UnRaR\", \"UnRaR with Password\", \"Tar\", \"UnTar\", \"Tar.gz\", \"UnTar.gz\", \"Tar.bz2\", \"UnTar.bz2\", \"Extract 7z\"]\n",
        "Packed_Output_File_Name = \"\\\"Custom Name Here only while packing\\\"\" #@param {type:\"string\"}\n",
        "Source_Path = \"\\\"Source Path Here\\\"\" #@param {type:\"string\"}\n",
        "Destination_Path = \"\\\"Destination Path Here\\\"\" #@param {type:\"string\"}\n",
        "# Packing + Custom Name\n",
        "Pack_Dest = Destination_Path + \"/\" + Packed_Output_File_Name\n",
        "UnPack_Dest = Destination_Path\n",
        "sz_Dest = Destination_Path + \"/\"\n",
        "Tar_Dest = Destination_Path + \"/\" + Packed_Output_File_Name + \".tar\"\n",
        "Targz_Dest = Destination_Path + \"/\" + Packed_Output_File_Name + \".tar.gz\"\n",
        "Tarbz_Dest = Destination_Path + \"/\" + Packed_Output_File_Name + \".tar.bz\"\n",
        "# Task Completed Message\n",
        "output = \"Task Completed Successfully!\"\n",
        "# Process\n",
        "if(Action==\"Zip\"):\n",
        "  !zip {Pack_Dest} {Source_Path}\n",
        "  print(output)\n",
        "if(Action==\"UnZip\"):\n",
        "  !unzip {Source_Path} -d {UnPack_Dest}\n",
        "  print(output)\n",
        "if(Action==\"RaR\"):\n",
        "  !apt-get install rar\n",
        "  !rar a {Pack_Dest} {Source_Path}\n",
        "  print(output)\n",
        "if(Action==\"RaR with Password\"):\n",
        "  !apt-get install rar\n",
        "  !rar a -p {Pack_Dest} {Source_Path}\n",
        "  print(output)\n",
        "if(Action==\"UnRaR\"):\n",
        "  !unrar x {Source_Path} {UnPack_Dest}\n",
        "  print(output)\n",
        "if(Action==\"UnRaR with Password\"):\n",
        "  !unrar x -Y {Source_Path} {UnPack_Dest}\n",
        "  print(output)\n",
        "if(Action==\"Tar\"):\n",
        "  !tar -cvf {Tar_Dest} {Source_Path}\n",
        "  print(output)\n",
        "if(Action==\"UnTar\"):\n",
        "  !tar -xvf {Source_Path} -C {UnPack_Dest}\n",
        "  print(output)\n",
        "if(Action==\"Tar.gz\"):\n",
        "  !tar -czvf {Targz_Dest} {Source_Path}\n",
        "  print(output)\n",
        "if(Action==\"UnTar.gz\"):\n",
        "  !tar -xzvf {Source_Path} -C {UnPack_Dest}\n",
        "  print(output)\n",
        "if(Action==\"Tar.bz2\"):\n",
        "  !tar -cjvf {Tarbz_Dest} {Source_Path}\n",
        "  print(output)\n",
        "if(Action==\"UnTar.bz2\"):\n",
        "  !tar -xjvf {Source_Path} -C {UnPack_Dest}\n",
        "  print(output)\n",
        "if(Action==\"Extract 7z\"):\n",
        "  %cd {sz_Dest}\n",
        "  !7z x {Source_Path}"
      ],
      "metadata": {
        "cellView": "form",
        "id": "qSBmZu-iIv0V"
      },
      "execution_count": null,
      "outputs": []
    },
    {
      "cell_type": "markdown",
      "source": [
        "## **Advanced Task: Run Commands**"
      ],
      "metadata": {
        "id": "3-GPORzzZXPF"
      }
    },
    {
      "cell_type": "markdown",
      "source": [
        "**You can run any supported Command below after downloading its setup from above!<br>List of Commands:**\n",
        "```\n",
        "# Putting '!' before any command is mandatory!\n",
        "---\n",
        "!rclone config - Enter an interactive configuration session.\n",
        "!rclone copy - Copy files from source to dest, skipping already copied.\n",
        "!rclone sync - Make source and dest identical, modifying destination only.\n",
        "!rclone move - Move files from source to dest.\n",
        "!rclone delete - Remove the contents of path.\n",
        "!rclone purge - Remove the path and all of its contents.\n",
        "!rclone mkdir - Make the path if it doesn't already exist.\n",
        "!rclone rmdir - Remove the path.\n",
        "!rclone rmdirs - Remove any empty directories under the path.\n",
        "!rclone check - Check if the files in the source and destination match.\n",
        "!rclone ls - List all the objects in the path with size and path.\n",
        "!rclone lsd - List all directories/containers/buckets in the path.\n",
        "!rclone lsl - List all the objects in the path with size, modification time and path.\n",
        "!rclone md5sum - Produce an md5sum file for all the objects in the path.\n",
        "!rclone sha1sum - Produce a sha1sum file for all the objects in the path.\n",
        "!rclone size - Return the total size and number of objects in remote:path.\n",
        "!rclone version - Show the version number.\n",
        "!rclone cleanup - Clean up the remote if possible.\n",
        "!rclone dedupe - Interactively find duplicate files and delete/rename them.\n",
        "!rclone authorize - Remote authorization.\n",
        "!rclone cat - Concatenate any files and send them to stdout.\n",
        "!rclone copyto - Copy files from source to dest, skipping already copied.\n",
        "!rclone genautocomplete - Output shell completion scripts for rclone.\n",
        "!rclone gendocs - Output markdown docs for rclone to the directory supplied.\n",
        "!rclone listremotes - List all the remotes in the config file.\n",
        "!rclone mount - Mount the remote as a mountpoint.\n",
        "!rclone moveto - Move file or directory from source to dest.\n",
        "!rclone obscure - Obscure password for use in the rclone.conf\n",
        "!rclone cryptcheck - Check the integrity of an encrypted remote.\n",
        "!rclone about - Get quota information from the remote.\n",
        "---\n",
        "!yt-dlp [OPTIONS] [URL-1 URL-2 URL-3]\n",
        "---\n",
        "!aria2c <torrent/magnet/url>\n",
        "```"
      ],
      "metadata": {
        "id": "FlNn7fXbWtHz"
      }
    },
    {
      "cell_type": "markdown",
      "source": [
        "**Write your Code Below:**"
      ],
      "metadata": {
        "id": "x6Dxey_8bGUJ"
      }
    },
    {
      "cell_type": "markdown",
      "source": [
        "**Code 1**"
      ],
      "metadata": {
        "id": "LF3tVGmLCGxL"
      }
    },
    {
      "cell_type": "code",
      "source": [
        "  #<--Write Code before #"
      ],
      "metadata": {
        "id": "k7N-XUplWuwF"
      },
      "execution_count": null,
      "outputs": []
    },
    {
      "cell_type": "markdown",
      "source": [
        "**Code 2**"
      ],
      "metadata": {
        "id": "1OpnhcI0CKcm"
      }
    },
    {
      "cell_type": "code",
      "source": [
        "  #<--Write Code before #"
      ],
      "metadata": {
        "id": "74atFIRKB12M"
      },
      "execution_count": null,
      "outputs": []
    },
    {
      "cell_type": "markdown",
      "source": [
        "**Powered By:<br>**\n",
        "```\n",
        "Python: v3.10\n",
        "Rclone: v1.58.1\n",
        "yt-dlp: v2022.05.18\n",
        "aria2: v1.36.0\n",
        "LibTorrent: v1.0.5\n",
        "Installer: v2.2.9 (R-1581)\n",
        "NoteBook: v3.0.5\n",
        "```"
      ],
      "metadata": {
        "id": "CIBvCpUk6kr6"
      }
    }
  ],
  "metadata": {
    "colab": {
      "name": "Rclone - Final.ipynb",
      "provenance": [],
      "include_colab_link": true
    },
    "kernelspec": {
      "display_name": "Python 3",
      "name": "python3"
    },
    "language_info": {
      "name": "python"
    },
    "accelerator": "TPU"
  },
  "nbformat": 4,
  "nbformat_minor": 0
}